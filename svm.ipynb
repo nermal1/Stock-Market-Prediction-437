{
 "cells": [
  {
   "cell_type": "markdown",
   "id": "fe904d7e-5edc-4244-84ba-0238c57d8a37",
   "metadata": {},
   "source": [
    "## Import Libraries "
   ]
  },
  {
   "cell_type": "code",
   "execution_count": 187,
   "id": "54b04404-9771-47ff-8dda-1bfb02294870",
   "metadata": {},
   "outputs": [],
   "source": [
    "from sklearn.svm import SVC\n",
    "from sklearn.preprocessing import MinMaxScaler\n",
    "from sklearn.model_selection import train_test_split\n",
    "from sklearn.metrics import accuracy_score, f1_score\n",
    "import pandas as pd\n",
    "import numpy as np\n",
    "import yfinance as yf"
   ]
  },
  {
   "cell_type": "markdown",
   "id": "3d8fb7bf-7f91-4999-aa5b-1690e4214002",
   "metadata": {},
   "source": [
    "## Create Features "
   ]
  },
  {
   "cell_type": "code",
   "execution_count": 190,
   "id": "f3039b6d-cc76-4de9-9ca3-c3470a35924f",
   "metadata": {},
   "outputs": [],
   "source": [
    "def continuous_data_features(df):\n",
    "    indicators = pd.DataFrame(index=df.index)\n",
    "\n",
    "    close = df[\"Close\"]\n",
    "    high = df[\"High\"]\n",
    "    low = df[\"Low\"]\n",
    "    vol = df[\"Volume\"]\n",
    "\n",
    "    # Simple Moving Average 10 day\n",
    "    indicators[\"SMA10\"] = close.rolling(window=10).mean()\n",
    "\n",
    "    # Weighted Moving Average 10 day\n",
    "    weights = np.arange(1, 11)\n",
    "    indicators[\"WMA10\"] = close.rolling(10).apply(lambda x: np.dot(x, weights)/weights.sum(), raw=True)\n",
    "\n",
    "    # Momentum 10 day\n",
    "    indicators[\"MOM10\"] = close - close.shift(10)\n",
    "\n",
    "    # Stochastic Oscillator %K 14 day\n",
    "    indicators[\"STOCHK\"] = 100 * (close - low.rolling(14).min()) / (high.rolling(14).max() - low.rolling(14).min())\n",
    "\n",
    "    # Stochastic Oscillator %D 3 day SMA of %K\n",
    "    indicators[\"STOCHD\"] = indicators[\"STOCHK\"].rolling(3).mean()\n",
    "\n",
    "    # Relative Strength Index 14 day \n",
    "    delta = close.diff()\n",
    "    up = delta.clip(lower=0)\n",
    "    down = -1 * delta.clip(upper=0)\n",
    "    rs = up.rolling(14).mean() / down.rolling(14).mean()\n",
    "    indicators[\"RSI14\"] = 100 - (100 / (1 + rs))\n",
    "\n",
    "    # MACD 12-day EMA - 26 day EMA\n",
    "    ema12 = close.ewm(span=12, adjust=False).mean()\n",
    "    ema26 = close.ewm(span=26, adjust=False).mean()\n",
    "    indicators[\"MACD\"] = ema12 - ema26\n",
    "\n",
    "    # Williams %R 14 day\n",
    "    highest14 = high.rolling(14).max()\n",
    "    lowest14 = low.rolling(14).min()\n",
    "    indicators[\"WILLR\"] = -100 * (highest14 - close) / (highest14 - lowest14)\n",
    "\n",
    "    # 9. Accumulation/Distribution Oscillator (ADOSC)\n",
    "    clv = np.where((high - low) == 0, 0, ((close - low) - (high - close)) / (high - low))\n",
    "    adl = (clv * vol).cumsum()\n",
    "\n",
    "    ema3_adl = adl.ewm(span=3, adjust=False).mean()\n",
    "    ema10_adl = adl.ewm(span=10, adjust=False).mean()\n",
    "\n",
    "    adosc = ema3_adl - ema10_adl\n",
    "\n",
    "    # Scale ADOSC to 0–100 like in papers\n",
    "    min_val = adosc.min()\n",
    "    max_val = adosc.max()\n",
    "    indicators[\"ADOSC\"] = 100 * (adosc - min_val) / (max_val - min_val)\n",
    "\n",
    "\n",
    "    # 10. Commodity Channel Index 20 day\n",
    "    tp = (high + low + close) / 3\n",
    "    sma = tp.rolling(20).mean()\n",
    "    mad = (tp - sma).abs().rolling(20).mean()\n",
    "    indicators[\"CCI20\"] = (tp - sma) / (0.015 * mad)\n",
    "\n",
    "    indicators[\"Close\"] = close\n",
    "\n",
    "    return indicators"
   ]
  },
  {
   "cell_type": "code",
   "execution_count": 192,
   "id": "83a34a88-d370-4294-b51b-6d32e16fecc0",
   "metadata": {},
   "outputs": [],
   "source": [
    "def trend_deterministic_data(indicators, df):\n",
    "    trend = pd.DataFrame(index=indicators.index)\n",
    "\n",
    "    close = indicators[\"Close\"]\n",
    "    high = df[\"High\"]\n",
    "    low = df[\"Low\"]\n",
    "    vol = df[\"Volume\"]\n",
    "\n",
    "    #SMA\n",
    "    trend[\"SMA10_T\"] = np.where(close > indicators[\"SMA10\"], 1, -1)\n",
    "\n",
    "    #WMA\n",
    "    trend[\"WMA10_T\"] = np.where(close > indicators[\"WMA10\"], 1, -1)\n",
    "\n",
    "    #Momentum\n",
    "    trend[\"MOM10_T\"] = np.where(indicators[\"MOM10\"] > 0, 1, -1)\n",
    "\n",
    "    # Sophisticated Oscillator trends\n",
    "    trend[\"STOCHK_T\"] = np.where(indicators[\"STOCHK\"] > indicators[\"STOCHK\"].shift(1), 1, -1)\n",
    "    trend[\"STOCHD_T\"] = np.where(indicators[\"STOCHD\"] > indicators[\"STOCHD\"].shift(1), 1, -1)\n",
    "\n",
    "    #RSI trend\n",
    "    rsi = indicators[\"RSI14\"]\n",
    "    trend[\"RSI14_T\"] = np.select([rsi > 70, rsi < 30, rsi > rsi.shift(1)],\n",
    "                                 [-1, 1, 1], default=-1)\n",
    "    #MACD trend\n",
    "    trend[\"MACD_T\"] = np.where(indicators[\"MACD\"] > indicators[\"MACD\"].shift(1), 1, -1)\n",
    "\n",
    "    #Williams %R trend\n",
    "    trend[\"WILLR_T\"] = np.where(indicators[\"WILLR\"] > indicators[\"WILLR\"].shift(1), 1, -1)\n",
    "\n",
    "    #ADOSC trend\n",
    "    trend[\"ADOSC_T\"] = np.where(indicators[\"ADOSC\"] > indicators[\"ADOSC\"].shift(1), 1, -1)\n",
    "\n",
    "    #CCI trend\n",
    "    cci = indicators[\"CCI20\"]\n",
    "    trend[\"CCI20_T\"] = np.select([cci > 200, cci < -200, cci > cci.shift(1)],\n",
    "                                 [-1, 1, 1], default=-1)\n",
    "    return trend\n",
    "    "
   ]
  },
  {
   "cell_type": "markdown",
   "id": "eb06630e-75b3-421a-b442-fbc801f5cf48",
   "metadata": {},
   "source": [
    "## Loop through tickers "
   ]
  },
  {
   "cell_type": "code",
   "execution_count": 195,
   "id": "b3c52687-5d6b-41f9-ba5c-4d58d8fca66d",
   "metadata": {},
   "outputs": [],
   "source": [
    "tickers = [\"MSFT\", \"AMZN\", \"^GSPC\", \"^DJI\"]\n",
    "results = []"
   ]
  },
  {
   "cell_type": "markdown",
   "id": "699b84ef-286c-453d-af05-0a685968603b",
   "metadata": {},
   "source": [
    "## Create SVM continuous model using Polynomial Kernel and RBF Kernel"
   ]
  },
  {
   "cell_type": "code",
   "execution_count": 228,
   "id": "d69db8a9-533a-47ea-9fb3-032c476c3d28",
   "metadata": {},
   "outputs": [],
   "source": [
    "def continuous_svm(X, y):\n",
    "    X_train, X_test, y_train, y_test = train_test_split(X, y, test_size=0.5, random_state=42)\n",
    "    \n",
    "    scaler = MinMaxScaler(feature_range=(-1, 1))\n",
    "    X_train_scaled = scaler.fit_transform(X_train)\n",
    "    X_test_scaled = scaler.transform(X_test)\n",
    "\n",
    "    C_values = [0.1, 0.5, 1, 5, 10, 100]\n",
    "    gammas = [0.1, 0.5, 1, 2, 3, 5]\n",
    "\n",
    "    results_poly = []\n",
    "    results_rbf = []\n",
    "\n",
    "    for C in C_values:\n",
    "            svm_poly = SVC(kernel=\"poly\", C=C, degree=1, gamma=\"scale\", random_state=42)\n",
    "            svm_poly.fit(X_train_scaled, y_train)\n",
    "            y_pred = svm_poly.predict(X_test_scaled)\n",
    "\n",
    "            acc = accuracy_score(y_test, y_pred)\n",
    "            f1 = f1_score(y_test, y_pred)\n",
    "            results_poly.append({\n",
    "                \"Kernel\": \"Polynomial\",\n",
    "                \"C\": C,\n",
    "                \"degree\": 1,\n",
    "                \"Accuracy\": acc,\n",
    "                \"F1\": f1\n",
    "            })\n",
    "\n",
    "    for C in C_values:\n",
    "        for gamma in gammas:\n",
    "            svm_rbf = SVC(kernel=\"rbf\", C=C, gamma=gamma, random_state=42)\n",
    "            svm_rbf.fit(X_train_scaled, y_train)\n",
    "            y_pred = svm_rbf.predict(X_test_scaled)\n",
    "\n",
    "            acc = accuracy_score(y_test, y_pred)\n",
    "            f1 = f1_score(y_test, y_pred)\n",
    "            results_rbf.append({\n",
    "                \"Kernel\": \"RBF\",\n",
    "                \"C\": C,\n",
    "                \"gamma\": gamma,\n",
    "                \"Accuracy\": acc,\n",
    "                \"F1\": f1\n",
    "            })\n",
    "\n",
    "    df_poly = pd.DataFrame(results_poly)\n",
    "    df_rbf = pd.DataFrame(results_rbf)\n",
    "\n",
    "    # Find the best result per kernel\n",
    "    best_poly = df_poly.loc[df_poly[\"Accuracy\"].idxmax()]\n",
    "    best_rbf = df_rbf.loc[df_rbf[\"Accuracy\"].idxmax()]\n",
    "\n",
    "    # Format summary table\n",
    "    summary = pd.DataFrame({\n",
    "        \"Kernel\": [\"Polynomial\", \"RBF\"],\n",
    "        \"C\": [best_poly[\"C\"], best_rbf[\"C\"]],\n",
    "        \"Degree/Gamma\": [best_poly[\"degree\"], best_rbf[\"gamma\"]],\n",
    "        \"Accuracy\": [best_poly[\"Accuracy\"], best_rbf[\"Accuracy\"]],\n",
    "        \"F-measure\": [best_poly[\"F1\"], best_rbf[\"F1\"]],\n",
    "    })\n",
    "\n",
    "    return summary, df_poly, df_rbf"
   ]
  },
  {
   "cell_type": "code",
   "execution_count": 246,
   "id": "43181911-6f0b-46b2-a698-148e6f4041e3",
   "metadata": {},
   "outputs": [],
   "source": [
    "def trend_svm(X, y):\n",
    "    # Split the dataset\n",
    "    X_train, X_test, y_train, y_test = train_test_split(X, y, test_size=0.5, random_state=42, shuffle=True)\n",
    "\n",
    "    # Scale features\n",
    "    scaler = MinMaxScaler(feature_range=(-1, 1))\n",
    "    X_train_scaled = scaler.fit_transform(X_train)\n",
    "    X_test_scaled = scaler.transform(X_test)\n",
    "\n",
    "    # Define search ranges\n",
    "    C_values = [0.1, 0.5, 1, 5, 10, 100]\n",
    "    gammas = [0.1, 0.5, 1, 2, 3, 5]\n",
    "\n",
    "    results_poly = []\n",
    "    results_rbf = []\n",
    "\n",
    "    # Polynomial kernel search\n",
    "    for C in C_values:\n",
    "            model = SVC(kernel=\"poly\", C=C, degree=1, gamma=\"scale\", random_state=42)\n",
    "            model.fit(X_train_scaled, y_train)\n",
    "            y_pred = model.predict(X_test_scaled)\n",
    "\n",
    "            acc = accuracy_score(y_test, y_pred)\n",
    "            f1 = f1_score(y_test, y_pred)\n",
    "            results_poly.append({\"Kernel\": \"Polynomial\", \"C\": C, \"degree\": 1, \"Accuracy\": acc, \"F1\": f1})\n",
    "\n",
    "    # RBF kernel search\n",
    "    for C in C_values:\n",
    "        for gamma in gammas:\n",
    "            model = SVC(kernel=\"rbf\", C=C, gamma=gamma, random_state=42)\n",
    "            model.fit(X_train_scaled, y_train)\n",
    "            y_pred = model.predict(X_test_scaled)\n",
    "\n",
    "            acc = accuracy_score(y_test, y_pred)\n",
    "            f1 = f1_score(y_test, y_pred)\n",
    "            results_rbf.append({\"Kernel\": \"RBF\", \"C\": C, \"gamma\": gamma, \"Accuracy\": acc, \"F1\": f1})\n",
    "\n",
    "    # Convert to DataFrames\n",
    "    df_poly = pd.DataFrame(results_poly)\n",
    "    df_rbf = pd.DataFrame(results_rbf)\n",
    "\n",
    "    # Get best from each kernel by Accuracy\n",
    "    best_poly = df_poly.loc[df_poly[\"Accuracy\"].idxmax()]\n",
    "    best_rbf = df_rbf.loc[df_rbf[\"Accuracy\"].idxmax()]\n",
    "\n",
    "    # Build summary table\n",
    "    summary = pd.DataFrame({\n",
    "        \"Kernel\": [\"Polynomial\", \"RBF\"],\n",
    "        \"C\": [best_poly[\"C\"], best_rbf[\"C\"]],\n",
    "        \"Degree/Gamma\": [best_poly[\"degree\"], best_rbf[\"gamma\"]],\n",
    "        \"Accuracy\": [best_poly[\"Accuracy\"], best_rbf[\"Accuracy\"]],\n",
    "        \"F-measure\": [best_poly[\"F1\"], best_rbf[\"F1\"]],\n",
    "    })\n",
    "\n",
    "    return summary, df_poly, df_rbf"
   ]
  },
  {
   "cell_type": "code",
   "execution_count": 238,
   "id": "8fc71e30-91cf-428b-8f8e-77078cdaf086",
   "metadata": {},
   "outputs": [
    {
     "name": "stderr",
     "output_type": "stream",
     "text": [
      "[*********************100%***********************]  1 of 1 completed"
     ]
    },
    {
     "name": "stdout",
     "output_type": "stream",
     "text": [
      "Processing MSFT\n"
     ]
    },
    {
     "name": "stderr",
     "output_type": "stream",
     "text": [
      "\n",
      "[*********************100%***********************]  1 of 1 completed"
     ]
    },
    {
     "name": "stdout",
     "output_type": "stream",
     "text": [
      "\n",
      "--- Continuous SVM Results ---\n",
      "    Kernel     C  Degree/Gamma  Accuracy  F-measure\n",
      "Polynomial  10.0           1.0  0.832123   0.847507\n",
      "       RBF 100.0           0.1  0.829701   0.842184\n",
      "Processing AMZN\n"
     ]
    },
    {
     "name": "stderr",
     "output_type": "stream",
     "text": [
      "\n",
      "[*********************100%***********************]  1 of 1 completed"
     ]
    },
    {
     "name": "stdout",
     "output_type": "stream",
     "text": [
      "\n",
      "--- Continuous SVM Results ---\n",
      "    Kernel     C  Degree/Gamma  Accuracy  F-measure\n",
      "Polynomial  10.0           1.0  0.824052   0.837313\n",
      "       RBF 100.0           0.1  0.822437   0.833837\n",
      "Processing ^GSPC\n"
     ]
    },
    {
     "name": "stderr",
     "output_type": "stream",
     "text": [
      "\n",
      "[*********************100%***********************]  1 of 1 completed"
     ]
    },
    {
     "name": "stdout",
     "output_type": "stream",
     "text": [
      "\n",
      "--- Continuous SVM Results ---\n",
      "    Kernel     C  Degree/Gamma  Accuracy  F-measure\n",
      "Polynomial 100.0           1.0  0.846651   0.860088\n",
      "       RBF 100.0           0.1  0.833737   0.846726\n",
      "Processing ^DJI\n"
     ]
    },
    {
     "name": "stderr",
     "output_type": "stream",
     "text": [
      "\n"
     ]
    },
    {
     "name": "stdout",
     "output_type": "stream",
     "text": [
      "\n",
      "--- Continuous SVM Results ---\n",
      "    Kernel    C  Degree/Gamma  Accuracy  F-measure\n",
      "Polynomial 10.0           1.0  0.840194   0.856105\n",
      "       RBF 10.0           0.1  0.840194   0.854839\n"
     ]
    }
   ],
   "source": [
    "for ticker in tickers:\n",
    "    print(f\"Processing {ticker}\")\n",
    "    \n",
    "    df = yf.download(ticker, start=\"2015-01-01\", end=\"2024-12-31\", auto_adjust=True)\n",
    "    df.dropna(inplace=True)\n",
    "    df[\"Target\"] = np.where(df[\"Close\"] > df[\"Close\"].shift(1), 1, -1)\n",
    "    df.dropna(inplace=True)\n",
    "\n",
    "    y = df[\"Target\"]\n",
    "    X_cont_full = continuous_data_features(df)\n",
    "    X_cont = X_cont_full.drop(columns=[\"Close\"])\n",
    "\n",
    "    cont_aligned = pd.concat([X_cont, y], axis=1)\n",
    "    cont_aligned.dropna(inplace=True)\n",
    "    X_cont_clean = cont_aligned.drop(columns=['Target'])\n",
    "    y_cont_clean = cont_aligned['Target']\n",
    "\n",
    "    summary_results, _, _ = continuous_svm(X_cont_clean, y_cont_clean)\n",
    "    print(\"\\n--- Continuous SVM Results ---\")\n",
    "    print(summary_results.to_string(index=False))"
   ]
  },
  {
   "cell_type": "code",
   "execution_count": 255,
   "id": "23dc380d-5291-4946-b68c-e3c288bd1450",
   "metadata": {},
   "outputs": [
    {
     "name": "stderr",
     "output_type": "stream",
     "text": [
      "[*********************100%***********************]  1 of 1 completed"
     ]
    },
    {
     "name": "stdout",
     "output_type": "stream",
     "text": [
      "Processing MSFT\n"
     ]
    },
    {
     "name": "stderr",
     "output_type": "stream",
     "text": [
      "\n",
      "[*********************100%***********************]  1 of 1 completed"
     ]
    },
    {
     "name": "stdout",
     "output_type": "stream",
     "text": [
      "\n",
      "--- Trend SVM Results ---\n",
      "    Kernel   C  Degree/Gamma  Accuracy  F-measure\n",
      "Polynomial 5.0           1.0  0.925278   0.928571\n",
      "       RBF 1.0           0.1  0.931638   0.934551\n",
      "Processing AMZN\n"
     ]
    },
    {
     "name": "stderr",
     "output_type": "stream",
     "text": [
      "\n",
      "[*********************100%***********************]  1 of 1 completed"
     ]
    },
    {
     "name": "stdout",
     "output_type": "stream",
     "text": [
      "\n",
      "--- Trend SVM Results ---\n",
      "    Kernel   C  Degree/Gamma  Accuracy  F-measure\n",
      "Polynomial 1.0           1.0  0.914944   0.920799\n",
      "       RBF 0.1           0.1  0.910970   0.916542\n",
      "Processing ^GSPC\n"
     ]
    },
    {
     "name": "stderr",
     "output_type": "stream",
     "text": [
      "\n",
      "[*********************100%***********************]  1 of 1 completed"
     ]
    },
    {
     "name": "stdout",
     "output_type": "stream",
     "text": [
      "\n",
      "--- Trend SVM Results ---\n",
      "    Kernel   C  Degree/Gamma  Accuracy  F-measure\n",
      "Polynomial 0.5           1.0  0.918919   0.924332\n",
      "       RBF 1.0           0.1  0.924483   0.930198\n",
      "Processing ^DJI\n"
     ]
    },
    {
     "name": "stderr",
     "output_type": "stream",
     "text": [
      "\n"
     ]
    },
    {
     "name": "stdout",
     "output_type": "stream",
     "text": [
      "\n",
      "--- Trend SVM Results ---\n",
      "    Kernel   C  Degree/Gamma  Accuracy  F-measure\n",
      "Polynomial 0.5           1.0  0.910970   0.916418\n",
      "       RBF 0.5           0.5  0.922893   0.928519\n"
     ]
    }
   ],
   "source": [
    "for ticker in tickers:\n",
    "    print(f\"Processing {ticker}\")\n",
    "    \n",
    "    df = yf.download(ticker, start=\"2015-01-01\", end=\"2024-12-31\", auto_adjust=True)\n",
    "    df.dropna(inplace=True)\n",
    "    df[\"Target\"] = np.where(df[\"Close\"] > df[\"Close\"].shift(1), 1, -1)\n",
    "    df.dropna(inplace=True)\n",
    "\n",
    "    y = df[\"Target\"]\n",
    "    \n",
    "    X_cont_full = continuous_data_features(df)\n",
    "    X_trend_full = trend_deterministic_data(X_cont_full, df)\n",
    "\n",
    "    trend_aligned = pd.concat([X_trend_full, y], axis=1)\n",
    "    trend_aligned.dropna(inplace=True)\n",
    "    X_trend_clean = trend_aligned.drop(columns=['Target'])\n",
    "    y_trend_clean = trend_aligned['Target']\n",
    "\n",
    "    summary_results, _, _ = trend_svm(X_trend_clean, y_trend_clean)\n",
    "    \n",
    "    print(\"\\n--- Trend SVM Results ---\")\n",
    "    print(summary_results.to_string(index=False))"
   ]
  },
  {
   "cell_type": "code",
   "execution_count": null,
   "id": "8b0080fb-3694-4d46-95f5-e1dd16d4c81c",
   "metadata": {},
   "outputs": [],
   "source": []
  }
 ],
 "metadata": {
  "kernelspec": {
   "display_name": "Python [conda env:base] *",
   "language": "python",
   "name": "conda-base-py"
  },
  "language_info": {
   "codemirror_mode": {
    "name": "ipython",
    "version": 3
   },
   "file_extension": ".py",
   "mimetype": "text/x-python",
   "name": "python",
   "nbconvert_exporter": "python",
   "pygments_lexer": "ipython3",
   "version": "3.12.7"
  }
 },
 "nbformat": 4,
 "nbformat_minor": 5
}
