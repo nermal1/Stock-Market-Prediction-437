{
 "cells": [
  {
   "cell_type": "markdown",
   "id": "ff95756e-8c2a-4ea8-8abe-0ab74c1a5cc3",
   "metadata": {},
   "source": [
    "# Import Libraries "
   ]
  },
  {
   "cell_type": "code",
   "execution_count": 438,
   "id": "f84dac4b-a35e-47ca-a711-6ff248f9b6df",
   "metadata": {},
   "outputs": [],
   "source": [
    "import pandas as pd\n",
    "import numpy as np\n",
    "import yfinance as yf \n",
    "from sklearn.model_selection import train_test_split\n",
    "from sklearn.preprocessing import MinMaxScaler\n",
    "from sklearn.ensemble import RandomForestClassifier\n",
    "from sklearn.metrics import accuracy_score, recall_score, precision_score, f1_score"
   ]
  },
  {
   "cell_type": "markdown",
   "id": "0bb36b98-5856-4ed5-83ab-09d5555486cb",
   "metadata": {},
   "source": [
    "# Create features "
   ]
  },
  {
   "cell_type": "code",
   "execution_count": 441,
   "id": "97a6396f-a716-4cf3-ac53-0987d064e98f",
   "metadata": {},
   "outputs": [],
   "source": [
    "def continuous_data_features(df):\n",
    "    indicators = pd.DataFrame(index=df.index)\n",
    "\n",
    "    close = df[\"Close\"]\n",
    "    high = df[\"High\"]\n",
    "    low = df[\"Low\"]\n",
    "    vol = df[\"Volume\"]\n",
    "\n",
    "    # Simple Moving Average 10 day\n",
    "    indicators[\"SMA10\"] = close.rolling(window=10).mean()\n",
    "\n",
    "    # Weighted Moving Average 10 day\n",
    "    weights = np.arange(1, 11)\n",
    "    indicators[\"WMA10\"] = close.rolling(10).apply(lambda x: np.dot(x, weights)/weights.sum(), raw=True)\n",
    "\n",
    "    # Momentum 10 day\n",
    "    indicators[\"MOM10\"] = close - close.shift(10)\n",
    "\n",
    "    # Stochastic Oscillator %K 14 day\n",
    "    indicators[\"STOCHK\"] = 100 * (close - low.rolling(14).min()) / (high.rolling(14).max() - low.rolling(14).min())\n",
    "\n",
    "    # Stochastic Oscillator %D 3 day SMA of %K\n",
    "    indicators[\"STOCHD\"] = indicators[\"STOCHK\"].rolling(3).mean()\n",
    "\n",
    "    # Relative Strength Index 14 day \n",
    "    delta = close.diff()\n",
    "    up = delta.clip(lower=0)\n",
    "    down = -1 * delta.clip(upper=0)\n",
    "    rs = up.rolling(14).mean() / down.rolling(14).mean()\n",
    "    indicators[\"RSI14\"] = 100 - (100 / (1 + rs))\n",
    "\n",
    "    # MACD 12-day EMA - 26 day EMA\n",
    "    ema12 = close.ewm(span=12, adjust=False).mean()\n",
    "    ema26 = close.ewm(span=26, adjust=False).mean()\n",
    "    indicators[\"MACD\"] = ema12 - ema26\n",
    "\n",
    "    # Williams %R 14 day\n",
    "    highest14 = high.rolling(14).max()\n",
    "    lowest14 = low.rolling(14).min()\n",
    "    indicators[\"WILLR\"] = -100 * (highest14 - close) / (highest14 - lowest14)\n",
    "\n",
    "    # 9. Accumulation/Distribution Oscillator (ADOSC)\n",
    "    clv = np.where((high - low) == 0, 0, ((close - low) - (high - close)) / (high - low))\n",
    "    adl = (clv * vol).cumsum()\n",
    "\n",
    "    ema3_adl = adl.ewm(span=3, adjust=False).mean()\n",
    "    ema10_adl = adl.ewm(span=10, adjust=False).mean()\n",
    "\n",
    "    adosc = ema3_adl - ema10_adl\n",
    "\n",
    "    # Scale ADOSC to 0–100 like in papers\n",
    "    min_val = adosc.min()\n",
    "    max_val = adosc.max()\n",
    "    indicators[\"ADOSC\"] = 100 * (adosc - min_val) / (max_val - min_val)\n",
    "\n",
    "\n",
    "    # 10. Commodity Channel Index 20 day\n",
    "    tp = (high + low + close) / 3\n",
    "    sma = tp.rolling(20).mean()\n",
    "    mad = (tp - sma).abs().rolling(20).mean()\n",
    "    indicators[\"CCI20\"] = (tp - sma) / (0.015 * mad)\n",
    "\n",
    "    indicators[\"Close\"] = close\n",
    "\n",
    "    return indicators\n"
   ]
  },
  {
   "cell_type": "code",
   "execution_count": 443,
   "id": "b81cf117-bf9f-433e-9c2a-c4dd94789490",
   "metadata": {},
   "outputs": [],
   "source": [
    "def trend_deterministic_data(indicators, df):\n",
    "    trend = pd.DataFrame(index=indicators.index)\n",
    "\n",
    "    close = indicators[\"Close\"]\n",
    "    high = df[\"High\"]\n",
    "    low = df[\"Low\"]\n",
    "    vol = df[\"Volume\"]\n",
    "\n",
    "    #SMA\n",
    "    trend[\"SMA10_T\"] = np.where(close > indicators[\"SMA10\"], 1, -1)\n",
    "\n",
    "    #WMA\n",
    "    trend[\"WMA10_T\"] = np.where(close > indicators[\"WMA10\"], 1, -1)\n",
    "\n",
    "    #Momentum\n",
    "    trend[\"MOM10_T\"] = np.where(indicators[\"MOM10\"] > 0, 1, -1)\n",
    "\n",
    "    # Sophisticated Oscillator trends\n",
    "    trend[\"STOCHK_T\"] = np.where(indicators[\"STOCHK\"] > indicators[\"STOCHK\"].shift(1), 1, -1)\n",
    "    trend[\"STOCHD_T\"] = np.where(indicators[\"STOCHD\"] > indicators[\"STOCHD\"].shift(1), 1, -1)\n",
    "\n",
    "    #RSI trend\n",
    "    rsi = indicators[\"RSI14\"]\n",
    "    trend[\"RSI14_T\"] = np.select([rsi > 70, rsi < 30, rsi > rsi.shift(1)],\n",
    "                                 [-1, 1, 1], default=-1)\n",
    "    #MACD trend\n",
    "    trend[\"MACD_T\"] = np.where(indicators[\"MACD\"] > indicators[\"MACD\"].shift(1), 1, -1)\n",
    "\n",
    "    #Williams %R trend\n",
    "    trend[\"WILLR_T\"] = np.where(indicators[\"WILLR\"] > indicators[\"WILLR\"].shift(1), 1, -1)\n",
    "\n",
    "    #ADOSC trend\n",
    "    trend[\"ADOSC_T\"] = np.where(indicators[\"ADOSC\"] > indicators[\"ADOSC\"].shift(1), 1, -1)\n",
    "\n",
    "    #CCI trend\n",
    "    cci = indicators[\"CCI20\"]\n",
    "    trend[\"CCI20_T\"] = np.select([cci > 200, cci < -200, cci > cci.shift(1)],\n",
    "                                 [-1, 1, 1], default=-1)\n",
    "    return trend\n",
    "    "
   ]
  },
  {
   "cell_type": "markdown",
   "id": "69b25c2b-c299-4ab1-8d78-677e59c592f7",
   "metadata": {},
   "source": [
    "## Loop Over Tickers "
   ]
  },
  {
   "cell_type": "code",
   "execution_count": 446,
   "id": "dc17ff71-b42e-4855-9502-b5e66ba7bd67",
   "metadata": {},
   "outputs": [],
   "source": [
    "tickers = [\"MSFT\", \"AMZN\", \"^GSPC\", \"^DJI\"]\n",
    "results = []"
   ]
  },
  {
   "cell_type": "markdown",
   "id": "5015b8d9-aebf-4ac4-9dee-f01908edd5b2",
   "metadata": {},
   "source": [
    "## Create Continuous Random Forest Model "
   ]
  },
  {
   "cell_type": "code",
   "execution_count": 449,
   "id": "da7faee7-5cc6-41fb-bc1a-ea51e0a2b288",
   "metadata": {},
   "outputs": [],
   "source": [
    "def continuous_rf(X, y, n_trees_list):\n",
    "    results = []\n",
    "\n",
    "    X_train, X_test, y_train, y_test = train_test_split(\n",
    "        X, y, test_size=0.5, random_state=42, shuffle=True\n",
    "    )\n",
    "\n",
    "    scaler = MinMaxScaler(feature_range=(-1, 1))\n",
    "    X_train_scaled = scaler.fit_transform(X_train)\n",
    "    X_test_scaled = scaler.transform(X_test)\n",
    "\n",
    "    for n in n_trees_list:\n",
    "        rf = RandomForestClassifier(n_estimators=n, random_state=42)\n",
    "        rf.fit(X_train_scaled, y_train)\n",
    "        y_pred = rf.predict(X_test_scaled)\n",
    "\n",
    "        acc = accuracy_score(y_test, y_pred)\n",
    "        f1 = f1_score(y_test, y_pred)\n",
    "        results.append((n, acc, f1))\n",
    "\n",
    "    df_results = pd.DataFrame(results, columns=[\"Trees\", \"Accuracy\", \"F1\"])\n",
    "    df_results[\"Rank\"] = df_results[\"Accuracy\"].rank(ascending=False)\n",
    "    return df_results.sort_values(by=\"Trees\").reset_index(drop=True)"
   ]
  },
  {
   "cell_type": "code",
   "execution_count": 463,
   "id": "3a74feca-6edb-464e-a8d3-99feb1a3a37a",
   "metadata": {},
   "outputs": [],
   "source": [
    "def trend_rf(X, y, n_trees_list):\n",
    "    results = []\n",
    "\n",
    "    X_train, X_test, y_train, y_test = train_test_split(\n",
    "        X, y, test_size=0.5, random_state=42, shuffle=True\n",
    "    )\n",
    "\n",
    "    for n in n_trees_list:\n",
    "        rf = RandomForestClassifier(n_estimators=n, random_state=42)\n",
    "        rf.fit(X_train, y_train)\n",
    "        y_pred = rf.predict(X_test)\n",
    "\n",
    "        acc = accuracy_score(y_test, y_pred)\n",
    "        f1 = f1_score(y_test, y_pred)\n",
    "        results.append((n, acc, f1))\n",
    "\n",
    "    df_results = pd.DataFrame(results, columns=[\"Trees\", \"Accuracy\", \"F1\"])\n",
    "    df_results[\"Rank\"] = df_results[\"Accuracy\"].rank(ascending=False)\n",
    "    return df_results.sort_values(by=\"Trees\").reset_index(drop=True)"
   ]
  },
  {
   "cell_type": "code",
   "execution_count": 453,
   "id": "d301e541-d70a-4abf-9652-498900c0128d",
   "metadata": {},
   "outputs": [],
   "source": [
    "n_trees_list = [20, 40, 60, 80, 100, 120, 140, 160, 180, 200]"
   ]
  },
  {
   "cell_type": "code",
   "execution_count": 475,
   "id": "a9f01fb5-9a6a-49a6-92f0-f89ee5d48f5e",
   "metadata": {},
   "outputs": [
    {
     "name": "stderr",
     "output_type": "stream",
     "text": [
      "[*********************100%***********************]  1 of 1 completed"
     ]
    },
    {
     "name": "stdout",
     "output_type": "stream",
     "text": [
      "\n",
      "=== Processing MSFT ===\n"
     ]
    },
    {
     "name": "stderr",
     "output_type": "stream",
     "text": [
      "\n"
     ]
    },
    {
     "name": "stdout",
     "output_type": "stream",
     "text": [
      "\n",
      "--- Random Forest (Continuous) ---\n",
      " Trees  Accuracy       F1\n",
      "    20  0.789348 0.800301\n",
      "    40  0.789348 0.802386\n",
      "    60  0.794118 0.807721\n",
      "    80  0.794913 0.807750\n",
      "   100  0.794118 0.807435\n",
      "   120  0.791733 0.805926\n",
      "   140  0.786169 0.801183\n",
      "   160  0.789348 0.803267\n",
      "   180  0.788553 0.802963\n",
      "   200  0.786963 0.800298\n",
      "\n",
      "Top 3 Continuous Tree Counts:\n",
      " Trees  Accuracy       F1\n",
      "    80  0.794913 0.807750\n",
      "    60  0.794118 0.807721\n",
      "   100  0.794118 0.807435\n"
     ]
    },
    {
     "name": "stderr",
     "output_type": "stream",
     "text": [
      "[*********************100%***********************]  1 of 1 completed"
     ]
    },
    {
     "name": "stdout",
     "output_type": "stream",
     "text": [
      "\n",
      "--- Random Forest (Trend) ---\n",
      " Trees  Accuracy       F1\n",
      "    20  0.923688 0.928465\n",
      "    40  0.922893 0.927666\n",
      "    60  0.922099 0.926866\n",
      "    80  0.924483 0.928945\n",
      "   100  0.923688 0.927711\n",
      "   120  0.923688 0.927711\n",
      "   140  0.924483 0.928625\n",
      "   160  0.924483 0.928625\n",
      "   180  0.924483 0.928625\n",
      "   200  0.924483 0.928625\n",
      "\n",
      "Top 3 Trend Tree Counts:\n",
      " Trees  Accuracy       F1\n",
      "    80  0.924483 0.928945\n",
      "   140  0.924483 0.928625\n",
      "   160  0.924483 0.928625\n",
      "\n",
      "=== Processing AMZN ===\n"
     ]
    },
    {
     "name": "stderr",
     "output_type": "stream",
     "text": [
      "\n"
     ]
    },
    {
     "name": "stdout",
     "output_type": "stream",
     "text": [
      "\n",
      "--- Random Forest (Continuous) ---\n",
      " Trees  Accuracy       F1\n",
      "    20  0.794913 0.802450\n",
      "    40  0.796502 0.806061\n",
      "    60  0.806041 0.815152\n",
      "    80  0.804452 0.814480\n",
      "   100  0.810016 0.820436\n",
      "   120  0.810811 0.821321\n",
      "   140  0.810016 0.819894\n",
      "   160  0.805246 0.815373\n",
      "   180  0.807631 0.818045\n",
      "   200  0.809221 0.820090\n",
      "\n",
      "Top 3 Continuous Tree Counts:\n",
      " Trees  Accuracy       F1\n",
      "   120  0.810811 0.821321\n",
      "   100  0.810016 0.820436\n",
      "   140  0.810016 0.819894\n"
     ]
    },
    {
     "name": "stderr",
     "output_type": "stream",
     "text": [
      "[*********************100%***********************]  1 of 1 completed"
     ]
    },
    {
     "name": "stdout",
     "output_type": "stream",
     "text": [
      "\n",
      "--- Random Forest (Trend) ---\n",
      " Trees  Accuracy       F1\n",
      "    20  0.900636 0.907339\n",
      "    40  0.902226 0.909359\n",
      "    60  0.904610 0.911243\n",
      "    80  0.904610 0.911243\n",
      "   100  0.904610 0.911243\n",
      "   120  0.904610 0.911243\n",
      "   140  0.904610 0.911243\n",
      "   160  0.904610 0.911243\n",
      "   180  0.904610 0.911243\n",
      "   200  0.904610 0.911243\n",
      "\n",
      "Top 3 Trend Tree Counts:\n",
      " Trees  Accuracy       F1\n",
      "    60   0.90461 0.911243\n",
      "    80   0.90461 0.911243\n",
      "   100   0.90461 0.911243\n",
      "\n",
      "=== Processing ^GSPC ===\n"
     ]
    },
    {
     "name": "stderr",
     "output_type": "stream",
     "text": [
      "\n"
     ]
    },
    {
     "name": "stdout",
     "output_type": "stream",
     "text": [
      "\n",
      "--- Random Forest (Continuous) ---\n",
      " Trees  Accuracy       F1\n",
      "    20  0.800477 0.817984\n",
      "    40  0.814785 0.832735\n",
      "    60  0.811606 0.828881\n",
      "    80  0.814785 0.832495\n",
      "   100  0.813990 0.831897\n",
      "   120  0.811606 0.829619\n",
      "   140  0.815580 0.833333\n",
      "   160  0.813990 0.832857\n",
      "   180  0.819555 0.837509\n",
      "   200  0.819555 0.837741\n",
      "\n",
      "Top 3 Continuous Tree Counts:\n",
      " Trees  Accuracy       F1\n",
      "   180  0.819555 0.837509\n",
      "   200  0.819555 0.837741\n",
      "   140  0.815580 0.833333\n"
     ]
    },
    {
     "name": "stderr",
     "output_type": "stream",
     "text": [
      "[*********************100%***********************]  1 of 1 completed"
     ]
    },
    {
     "name": "stdout",
     "output_type": "stream",
     "text": [
      "\n",
      "--- Random Forest (Trend) ---\n",
      " Trees  Accuracy       F1\n",
      "    20  0.924483 0.929682\n",
      "    40  0.924483 0.929889\n",
      "    60  0.924483 0.929786\n",
      "    80  0.924483 0.929786\n",
      "   100  0.923688 0.929308\n",
      "   120  0.923688 0.929308\n",
      "   140  0.924483 0.930096\n",
      "   160  0.924483 0.930096\n",
      "   180  0.924483 0.930096\n",
      "   200  0.923688 0.929412\n",
      "\n",
      "Top 3 Trend Tree Counts:\n",
      " Trees  Accuracy       F1\n",
      "    20  0.924483 0.929682\n",
      "    40  0.924483 0.929889\n",
      "    60  0.924483 0.929786\n",
      "\n",
      "=== Processing ^DJI ===\n"
     ]
    },
    {
     "name": "stderr",
     "output_type": "stream",
     "text": [
      "\n"
     ]
    },
    {
     "name": "stdout",
     "output_type": "stream",
     "text": [
      "\n",
      "--- Random Forest (Continuous) ---\n",
      " Trees  Accuracy       F1\n",
      "    20  0.779809 0.797958\n",
      "    40  0.796502 0.816881\n",
      "    60  0.787758 0.808052\n",
      "    80  0.791733 0.811782\n",
      "   100  0.788553 0.809456\n",
      "   120  0.786169 0.806614\n",
      "   140  0.790938 0.810655\n",
      "   160  0.794913 0.814121\n",
      "   180  0.796502 0.815296\n",
      "   200  0.795707 0.814440\n",
      "\n",
      "Top 3 Continuous Tree Counts:\n",
      " Trees  Accuracy       F1\n",
      "    40  0.796502 0.816881\n",
      "   180  0.796502 0.815296\n",
      "   200  0.795707 0.814440\n",
      "\n",
      "--- Random Forest (Trend) ---\n",
      " Trees  Accuracy       F1\n",
      "    20  0.923688 0.929099\n",
      "    40  0.922893 0.928519\n",
      "    60  0.923688 0.929099\n",
      "    80  0.922893 0.928519\n",
      "   100  0.922893 0.928519\n",
      "   120  0.922893 0.928519\n",
      "   140  0.922893 0.928519\n",
      "   160  0.922893 0.928519\n",
      "   180  0.922893 0.928519\n",
      "   200  0.922893 0.928519\n",
      "\n",
      "Top 3 Trend Tree Counts:\n",
      " Trees  Accuracy       F1\n",
      "    20  0.923688 0.929099\n",
      "    60  0.923688 0.929099\n",
      "    40  0.922893 0.928519\n"
     ]
    }
   ],
   "source": [
    "for ticker in tickers:\n",
    "    print(f\"\\n=== Processing {ticker} ===\")\n",
    "    df = yf.download(ticker, start=\"2015-01-01\", end=\"2024-12-31\", auto_adjust=True)\n",
    "    df.dropna(inplace=True)\n",
    "\n",
    "    df[\"Target\"] = np.where(df[\"Close\"] > df[\"Close\"].shift(1), 1, -1)\n",
    "    df.dropna(inplace=True)\n",
    "\n",
    "    y = df[\"Target\"]\n",
    "    X_cont_full = continuous_data_features(df)\n",
    "    X_trend = trend_deterministic_data(X_cont_full, df)\n",
    "    X_cont = X_cont_full.drop(columns=[\"Close\"])\n",
    "\n",
    "    # Continuous\n",
    "    cont_results = continuous_rf(X_cont, y, n_trees_list)\n",
    "    print(\"\\n--- Random Forest (Continuous) ---\")\n",
    "    print(cont_results[[\"Trees\", \"Accuracy\", \"F1\"]].to_string(index=False))\n",
    "\n",
    "    top3_cont = cont_results.nlargest(3, \"Accuracy\")\n",
    "    print(\"\\nTop 3 Continuous Tree Counts:\")\n",
    "    print(top3_cont[[\"Trees\", \"Accuracy\", \"F1\"]].to_string(index=False))\n",
    "\n",
    "    # Trend\n",
    "    trend_results = trend_rf(X_trend, y, n_trees_list)\n",
    "    print(\"\\n--- Random Forest (Trend) ---\")\n",
    "    print(trend_results[[\"Trees\", \"Accuracy\", \"F1\"]].to_string(index=False))\n",
    "\n",
    "    top3_trend = trend_results.nlargest(3, \"Accuracy\")\n",
    "    print(\"\\nTop 3 Trend Tree Counts:\")\n",
    "    print(top3_trend[[\"Trees\", \"Accuracy\", \"F1\"]].to_string(index=False))"
   ]
  },
  {
   "cell_type": "code",
   "execution_count": null,
   "id": "17b1318e-8b2f-4243-a087-196c1f06b1c4",
   "metadata": {},
   "outputs": [],
   "source": []
  }
 ],
 "metadata": {
  "kernelspec": {
   "display_name": "Python [conda env:base] *",
   "language": "python",
   "name": "conda-base-py"
  },
  "language_info": {
   "codemirror_mode": {
    "name": "ipython",
    "version": 3
   },
   "file_extension": ".py",
   "mimetype": "text/x-python",
   "name": "python",
   "nbconvert_exporter": "python",
   "pygments_lexer": "ipython3",
   "version": "3.12.7"
  }
 },
 "nbformat": 4,
 "nbformat_minor": 5
}
