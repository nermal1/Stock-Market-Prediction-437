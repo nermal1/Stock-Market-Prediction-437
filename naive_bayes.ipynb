{
 "cells": [
  {
   "cell_type": "markdown",
   "id": "c5a04019-1355-4bd0-8d0c-075fc70d515f",
   "metadata": {},
   "source": [
    "# Import Libraries"
   ]
  },
  {
   "cell_type": "code",
   "execution_count": 147,
   "id": "43743c7f-327f-4d34-aab2-81a206a0e437",
   "metadata": {},
   "outputs": [],
   "source": [
    "import yfinance as yf\n",
    "import pandas as pd\n",
    "import numpy as np\n",
    "from sklearn.utils import resample, shuffle\n",
    "from sklearn.model_selection import train_test_split\n",
    "from sklearn.naive_bayes import GaussianNB, BernoulliNB\n",
    "from sklearn.metrics import accuracy_score, classification_report, ConfusionMatrixDisplay, f1_score\n",
    "import matplotlib.pyplot as plt\n",
    "from sklearn.preprocessing import MinMaxScaler"
   ]
  },
  {
   "cell_type": "markdown",
   "id": "b867ba02-1800-43a1-ac39-705af2d68ef2",
   "metadata": {},
   "source": [
    "# Create Features "
   ]
  },
  {
   "cell_type": "code",
   "execution_count": 150,
   "id": "7ef1a9b9-3e40-4659-aeae-4c9137d02459",
   "metadata": {},
   "outputs": [],
   "source": [
    "def continuous_data_features(df):\n",
    "    indicators = pd.DataFrame(index=df.index)\n",
    "\n",
    "    close = df[\"Close\"]\n",
    "    high = df[\"High\"]\n",
    "    low = df[\"Low\"]\n",
    "    vol = df[\"Volume\"]\n",
    "\n",
    "    # Simple Moving Average 10 day\n",
    "    indicators[\"SMA10\"] = close.rolling(window=10).mean()\n",
    "\n",
    "    # Weighted Moving Average 10 day\n",
    "    weights = np.arange(1, 11)\n",
    "    indicators[\"WMA10\"] = close.rolling(10).apply(lambda x: np.dot(x, weights)/weights.sum(), raw=True)\n",
    "\n",
    "    # Momentum 10 day\n",
    "    indicators[\"MOM10\"] = close - close.shift(10)\n",
    "\n",
    "    # Stochastic Oscillator %K 14 day\n",
    "    indicators[\"STOCHK\"] = 100 * (close - low.rolling(14).min()) / (high.rolling(14).max() - low.rolling(14).min())\n",
    "\n",
    "    # Stochastic Oscillator %D 3 day SMA of %K\n",
    "    indicators[\"STOCHD\"] = indicators[\"STOCHK\"].rolling(3).mean()\n",
    "\n",
    "    # Relative Strength Index 14 day \n",
    "    delta = close.diff()\n",
    "    up = delta.clip(lower=0)\n",
    "    down = -1 * delta.clip(upper=0)\n",
    "    rs = up.rolling(14).mean() / down.rolling(14).mean()\n",
    "    indicators[\"RSI14\"] = 100 - (100 / (1 + rs))\n",
    "\n",
    "    # MACD 12-day EMA - 26 day EMA\n",
    "    ema12 = close.ewm(span=12, adjust=False).mean()\n",
    "    ema26 = close.ewm(span=26, adjust=False).mean()\n",
    "    indicators[\"MACD\"] = ema12 - ema26\n",
    "\n",
    "    # Williams %R 14 day\n",
    "    highest14 = high.rolling(14).max()\n",
    "    lowest14 = low.rolling(14).min()\n",
    "    indicators[\"WILLR\"] = -100 * (highest14 - close) / (highest14 - lowest14)\n",
    "\n",
    "    # 9. Accumulation/Distribution Oscillator (ADOSC)\n",
    "    clv = np.where((high - low) == 0, 0, ((close - low) - (high - close)) / (high - low))\n",
    "    adl = (clv * vol).cumsum()\n",
    "\n",
    "    ema3_adl = adl.ewm(span=3, adjust=False).mean()\n",
    "    ema10_adl = adl.ewm(span=10, adjust=False).mean()\n",
    "\n",
    "    adosc = ema3_adl - ema10_adl\n",
    "\n",
    "    # Scale ADOSC to 0–100 like in papers\n",
    "    min_val = adosc.min()\n",
    "    max_val = adosc.max()\n",
    "    indicators[\"ADOSC\"] = 100 * (adosc - min_val) / (max_val - min_val)\n",
    "\n",
    "\n",
    "    # 10. Commodity Channel Index 20 day\n",
    "    tp = (high + low + close) / 3\n",
    "    sma = tp.rolling(20).mean()\n",
    "    mad = (tp - sma).abs().rolling(20).mean()\n",
    "    indicators[\"CCI20\"] = (tp - sma) / (0.015 * mad)\n",
    "\n",
    "    indicators[\"Close\"] = close\n",
    "\n",
    "    return indicators"
   ]
  },
  {
   "cell_type": "code",
   "execution_count": 152,
   "id": "c251cc1d-ee85-438f-a38c-69ef6752e4a3",
   "metadata": {},
   "outputs": [],
   "source": [
    "def trend_deterministic_data(indicators, df):\n",
    "    trend = pd.DataFrame(index=indicators.index)\n",
    "\n",
    "    close = indicators[\"Close\"]\n",
    "    high = df[\"High\"]\n",
    "    low = df[\"Low\"]\n",
    "    vol = df[\"Volume\"]\n",
    "\n",
    "    #SMA\n",
    "    trend[\"SMA10_T\"] = np.where(close > indicators[\"SMA10\"], 1, -1)\n",
    "\n",
    "    #WMA\n",
    "    trend[\"WMA10_T\"] = np.where(close > indicators[\"WMA10\"], 1, -1)\n",
    "\n",
    "    #Momentum\n",
    "    trend[\"MOM10_T\"] = np.where(indicators[\"MOM10\"] > 0, 1, -1)\n",
    "\n",
    "    # Sophisticated Oscillator trends\n",
    "    trend[\"STOCHK_T\"] = np.where(indicators[\"STOCHK\"] > indicators[\"STOCHK\"].shift(1), 1, -1)\n",
    "    trend[\"STOCHD_T\"] = np.where(indicators[\"STOCHD\"] > indicators[\"STOCHD\"].shift(1), 1, -1)\n",
    "\n",
    "    #RSI trend\n",
    "    rsi = indicators[\"RSI14\"]\n",
    "    trend[\"RSI14_T\"] = np.select([rsi > 70, rsi < 30, rsi > rsi.shift(1)],\n",
    "                                 [-1, 1, 1], default=-1)\n",
    "    #MACD trend\n",
    "    trend[\"MACD_T\"] = np.where(indicators[\"MACD\"] > indicators[\"MACD\"].shift(1), 1, -1)\n",
    "\n",
    "    #Williams %R trend\n",
    "    trend[\"WILLR_T\"] = np.where(indicators[\"WILLR\"] > indicators[\"WILLR\"].shift(1), 1, -1)\n",
    "\n",
    "    #ADOSC trend\n",
    "    trend[\"ADOSC_T\"] = np.where(indicators[\"ADOSC\"] > indicators[\"ADOSC\"].shift(1), 1, -1)\n",
    "\n",
    "    #CCI trend\n",
    "    cci = indicators[\"CCI20\"]\n",
    "    trend[\"CCI20_T\"] = np.select([cci > 200, cci < -200, cci > cci.shift(1)],\n",
    "                                 [-1, 1, 1], default=-1)\n",
    "    return trend\n",
    "    "
   ]
  },
  {
   "cell_type": "markdown",
   "id": "038c8004-a536-4c61-9339-b36c9ea1655e",
   "metadata": {},
   "source": [
    "## Loop over tickers"
   ]
  },
  {
   "cell_type": "code",
   "execution_count": 155,
   "id": "4aa2d690-3604-4863-a352-11f8e8f95aed",
   "metadata": {},
   "outputs": [],
   "source": [
    "tickers = [\"MSFT\", \"AMZN\", \"^GSPC\", \"^DJI\"]\n",
    "results = []"
   ]
  },
  {
   "cell_type": "markdown",
   "id": "058083e4-505f-4fc0-9cb0-f99cf50bbbeb",
   "metadata": {},
   "source": [
    "## Create Continuous Naive Bayes Model\n",
    "Gaussian "
   ]
  },
  {
   "cell_type": "code",
   "execution_count": 158,
   "id": "89edb7a7-b1d2-4cd3-b739-2631e2dfb837",
   "metadata": {},
   "outputs": [],
   "source": [
    "def continuous_nb(X, y):\n",
    "    results = []\n",
    "\n",
    "    X_train, X_test, y_train, y_test = train_test_split(\n",
    "        X, y, test_size=0.5, random_state=42, shuffle=True\n",
    "    )\n",
    "\n",
    "    # Scale features to (-1, 1)\n",
    "    scaler = MinMaxScaler(feature_range=(-1, 1))\n",
    "    X_train_scaled = scaler.fit_transform(X_train)\n",
    "    X_test_scaled = scaler.transform(X_test)\n",
    "\n",
    "    nb = GaussianNB()\n",
    "    nb.fit(X_train_scaled, y_train)\n",
    "    y_pred = nb.predict(X_test_scaled)\n",
    "\n",
    "    acc = accuracy_score(y_test, y_pred)\n",
    "    f1 = f1_score(y_test, y_pred)\n",
    "    results.append((acc, f1))\n",
    "\n",
    "    df_results = pd.DataFrame(results, columns=[\"Accuracy\", \"F1\"])\n",
    "    return df_results\n"
   ]
  },
  {
   "cell_type": "markdown",
   "id": "7764c1dd-019d-4d76-9177-27462764dba8",
   "metadata": {},
   "source": [
    "## Trend Naive Bayes"
   ]
  },
  {
   "cell_type": "code",
   "execution_count": 168,
   "id": "19d742a2-23ca-4b88-871c-fe2f6953b4dc",
   "metadata": {},
   "outputs": [],
   "source": [
    "def trend_nb(X, y):\n",
    "    results = []\n",
    "\n",
    "    X_train, X_test, y_train, y_test = train_test_split(\n",
    "        X, y, test_size=0.5, random_state=42, shuffle=True\n",
    "    )\n",
    "\n",
    "    nb = BernoulliNB()\n",
    "    nb.fit(X_train, y_train)\n",
    "    y_pred = nb.predict(X_test)\n",
    "\n",
    "    acc = accuracy_score(y_test, y_pred)\n",
    "    f1 = f1_score(y_test, y_pred)\n",
    "    results.append((acc, f1))\n",
    "\n",
    "    df_results = pd.DataFrame(results, columns=[\"Accuracy\", \"F1\"])\n",
    "    return df_results"
   ]
  },
  {
   "cell_type": "markdown",
   "id": "a6960385-708f-41a4-9231-de2030e6eb6d",
   "metadata": {},
   "source": [
    "## Evaluate Models "
   ]
  },
  {
   "cell_type": "code",
   "execution_count": 171,
   "id": "76cb0954-ad6a-4258-8a16-50b24da28c4e",
   "metadata": {},
   "outputs": [
    {
     "name": "stderr",
     "output_type": "stream",
     "text": [
      "[*********************100%***********************]  1 of 1 completed\n",
      "[*********************100%***********************]  1 of 1 completed\n",
      "[*********************100%***********************]  1 of 1 completed\n",
      "[*********************100%***********************]  1 of 1 completed"
     ]
    },
    {
     "name": "stdout",
     "output_type": "stream",
     "text": [
      "Results for MSFT\n",
      "Naive Bayes Continuous Results\n",
      " Accuracy       F1\n",
      " 0.634383 0.683438\n",
      "Naive Bayes Trend Results\n",
      " Accuracy       F1\n",
      " 0.919714 0.924458\n",
      "Results for AMZN\n",
      "Naive Bayes Continuous Results\n",
      " Accuracy    F1\n",
      " 0.618241 0.656\n",
      "Naive Bayes Trend Results\n",
      " Accuracy       F1\n",
      " 0.915739 0.920659\n",
      "Results for ^GSPC\n",
      "Naive Bayes Continuous Results\n",
      " Accuracy       F1\n",
      " 0.625504 0.681756\n",
      "Naive Bayes Trend Results\n",
      " Accuracy       F1\n",
      " 0.926073 0.930649\n",
      "Results for ^DJI\n",
      "Naive Bayes Continuous Results\n",
      " Accuracy      F1\n",
      " 0.630347 0.68544\n",
      "Naive Bayes Trend Results\n",
      " Accuracy       F1\n",
      "  0.90779 0.914328\n"
     ]
    },
    {
     "name": "stderr",
     "output_type": "stream",
     "text": [
      "\n"
     ]
    }
   ],
   "source": [
    "for ticker in tickers:\n",
    "    print(f\"Results for {ticker}\")\n",
    "    df = yf.download(ticker, start=\"2015-01-01\", end=\"2024-12-31\", auto_adjust=True)\n",
    "    df.dropna(inplace=True)\n",
    "\n",
    "    df[\"Target\"] = np.where(df[\"Close\"] > df[\"Close\"].shift(1), 1, -1)\n",
    "    df.dropna(inplace=True)\n",
    "\n",
    "    y = df[\"Target\"]\n",
    "    X_cont_full = continuous_data_features(df)\n",
    "    X_trend = trend_deterministic_data(X_cont_full, df)\n",
    "    X_cont = X_cont_full.drop(columns=[\"Close\"])\n",
    "\n",
    "    cont_aligned = pd.concat([X_cont, y], axis=1)\n",
    "    cont_aligned.dropna(inplace=True)\n",
    "    X_cont_clean = cont_aligned.drop(columns=['Target'])\n",
    "    y_cont_clean = cont_aligned['Target']\n",
    "\n",
    "    trend_aligned = pd.concat([X_trend, y], axis=1)\n",
    "    trend_aligned.dropna(inplace=True)\n",
    "    X_trend_clean = trend_aligned.drop(columns=['Target'])\n",
    "    y_trend_clean = trend_aligned['Target']\n",
    "\n",
    "    cont_results = continuous_nb(X_cont_clean, y_cont_clean)\n",
    "    print(\"Naive Bayes Continuous Results\")\n",
    "    print(cont_results[[\"Accuracy\", \"F1\"]].to_string(index=False))\n",
    "\n",
    "    trend_results = trend_nb(X_trend_clean, y_trend_clean)\n",
    "    print(\"Naive Bayes Trend Results\")\n",
    "    print(trend_results[[\"Accuracy\", \"F1\"]].to_string(index=False))\n",
    "    "
   ]
  },
  {
   "cell_type": "code",
   "execution_count": null,
   "id": "279ebbff-0a11-4ef6-aefe-f1d48754c734",
   "metadata": {},
   "outputs": [],
   "source": []
  }
 ],
 "metadata": {
  "kernelspec": {
   "display_name": "Python [conda env:base] *",
   "language": "python",
   "name": "conda-base-py"
  },
  "language_info": {
   "codemirror_mode": {
    "name": "ipython",
    "version": 3
   },
   "file_extension": ".py",
   "mimetype": "text/x-python",
   "name": "python",
   "nbconvert_exporter": "python",
   "pygments_lexer": "ipython3",
   "version": "3.12.7"
  }
 },
 "nbformat": 4,
 "nbformat_minor": 5
}
